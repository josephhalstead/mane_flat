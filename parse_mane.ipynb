{
 "cells": [
  {
   "cell_type": "code",
   "execution_count": 1,
   "id": "c899d493",
   "metadata": {},
   "outputs": [],
   "source": [
    "import pandas as pd\n",
    "import csv"
   ]
  },
  {
   "cell_type": "code",
   "execution_count": 16,
   "id": "c75e5656",
   "metadata": {},
   "outputs": [],
   "source": [
    "mane = '/Users/josephhalstead/Downloads/MANE.GRCh38.v1.0.refseq_genomic.gff'\n",
    "\n",
    "output = 'MANE.GRCh38.v1.0.refseq_genomic_mane_flat.csv'"
   ]
  },
  {
   "cell_type": "code",
   "execution_count": 14,
   "id": "21ac5535",
   "metadata": {},
   "outputs": [],
   "source": [
    "import csv\n",
    "\n",
    "gene_rows = []\n",
    "\n",
    "with open(mane) as csvfile:\n",
    "    spamreader = csv.reader(csvfile, delimiter='\\t')\n",
    "    for row in spamreader:\n",
    "        \n",
    "        \n",
    "        if row[0][0] != '#':\n",
    "            \n",
    "            bio_type = row[2]\n",
    "            \n",
    "            if bio_type == 'mRNA':\n",
    "                                \n",
    "                info = row[8].split(';')\n",
    "                \n",
    "                info_dict = {}\n",
    "                \n",
    "                for item in info:\n",
    "                    \n",
    "                    key = item.split('=')[0]\n",
    "                    value = item.split('=')[1]\n",
    "                    \n",
    "                    info_dict[key] = value\n",
    "                    \n",
    "                    \n",
    "                gene = info_dict['gene']\n",
    "                transcript_id = info_dict['transcript_id']\n",
    "                tag = info_dict['tag']\n",
    "\n",
    "                Dbxref = info_dict['Dbxref'].split(',')\n",
    "                \n",
    "                db_dict = {}\n",
    "                \n",
    "                for item in Dbxref:\n",
    "                    \n",
    "                    key = item.split(':')[0]\n",
    "                    value = item.split(':')[1]\n",
    "                    \n",
    "                    db_dict[key] = value\n",
    "                    \n",
    "                ensembl = db_dict.get('Ensembl')\n",
    "                gene_id = db_dict['GeneID']\n",
    "                \n",
    "                gene_rows.append([gene, transcript_id, tag, ensembl, gene_id])\n",
    "                \n",
    "                "
   ]
  },
  {
   "cell_type": "code",
   "execution_count": 17,
   "id": "c01553cb",
   "metadata": {},
   "outputs": [],
   "source": [
    "with open(output, 'w') as csvfile:\n",
    "    spamwriter = csv.writer(csvfile, delimiter=',')\n",
    "    spamwriter.writerow(['symbol', 'refseq', 'tag', 'ensembl_id', 'gene_id'])\n",
    "\n",
    "    for row in gene_rows:\n",
    "        \n",
    "        spamwriter.writerow(row)"
   ]
  },
  {
   "cell_type": "code",
   "execution_count": null,
   "id": "97af921b",
   "metadata": {},
   "outputs": [],
   "source": []
  }
 ],
 "metadata": {
  "kernelspec": {
   "display_name": "Python 3 (ipykernel)",
   "language": "python",
   "name": "python3"
  },
  "language_info": {
   "codemirror_mode": {
    "name": "ipython",
    "version": 3
   },
   "file_extension": ".py",
   "mimetype": "text/x-python",
   "name": "python",
   "nbconvert_exporter": "python",
   "pygments_lexer": "ipython3",
   "version": "3.10.0"
  }
 },
 "nbformat": 4,
 "nbformat_minor": 5
}
